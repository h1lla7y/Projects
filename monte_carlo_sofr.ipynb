{
  "nbformat": 4,
  "nbformat_minor": 0,
  "metadata": {
    "colab": {
      "provenance": [],
      "authorship_tag": "ABX9TyP2vuMrHVi4eexOvSe6c9XO",
      "include_colab_link": true
    },
    "kernelspec": {
      "name": "python3",
      "display_name": "Python 3"
    },
    "language_info": {
      "name": "python"
    }
  },
  "cells": [
    {
      "cell_type": "markdown",
      "metadata": {
        "id": "view-in-github",
        "colab_type": "text"
      },
      "source": [
        "<a href=\"https://colab.research.google.com/github/h1lla7y/Projects/blob/main/monte_carlo_sofr.ipynb\" target=\"_parent\"><img src=\"https://colab.research.google.com/assets/colab-badge.svg\" alt=\"Open In Colab\"/></a>"
      ]
    },
    {
      "cell_type": "code",
      "execution_count": 1,
      "metadata": {
        "id": "P4Jf6xQPfcYK"
      },
      "outputs": [],
      "source": [
        "import numpy as np\n",
        "import pandas as pd\n",
        "import matplotlib.pyplot as plt\n",
        "import requests"
      ]
    },
    {
      "cell_type": "code",
      "source": [
        "avg_loan = 25000000\n",
        "num_loans = 15\n",
        "sofr_spread = .05\n",
        "\n",
        "np.random.seed(42)\n",
        "portfolio = pd.DataFrame({\n",
        "    'loan_id': range(1, num_loans + 1 ),\n",
        "    'amount': np.random.lognormal(mean=np.log(avg_loan), sigma=.05, size= num_loans),\n",
        "    'ltv': np.random.uniform(0.5, 0.8, size=num_loans),\n",
        "    'probd': np.random.uniform(0.01, 0.10, size=num_loans)\n",
        "})\n"
      ],
      "metadata": {
        "id": "S_vpjYcNj9ha"
      },
      "execution_count": 2,
      "outputs": []
    },
    {
      "cell_type": "code",
      "source": [
        "try:\n",
        "    sofr_rates = pd.read_csv(\"sofr.csv\", parse_dates=['Effective Date'], index_col='Effective Date')['Rate (%)'] / 100\n",
        "    sofr_rates = sofr_rates.dropna()\n",
        "    assert len(sofr_rates) > 0, \"Data empty after loading\"\n",
        "except Exception as e:\n",
        "    raise ValueError(f\"Failed to load SOFR data: {e}\")\n",
        "\n",
        "\n",
        "sofr_returns = np.log(sofr_rates / sofr_rates.shift(1)).dropna()\n",
        "mu_sofr = sofr_returns.mean() * 252\n",
        "sigma_sofr = sofr_returns.std() * np.sqrt(252)\n",
        "\n",
        "\n",
        "def simulate_sofr_paths(initial_rate, mu, sigma, days=252, n_simulations=1000):\n",
        "    dt = 1/days\n",
        "    paths = np.zeros((days, n_simulations))\n",
        "    paths[0] = initial_rate\n",
        "\n",
        "    for t in range(1, days):\n",
        "        shocks = np.random.normal(0, 1, n_simulations)\n",
        "        paths[t] = paths[t-1] * np.exp((mu - 0.5*sigma**2)*dt + sigma*np.sqrt(dt)*shocks)\n",
        "    return paths\n",
        "\n",
        "\n",
        "initial_sofr = .045\n",
        "new_sofr_paths = simulate_sofr_paths(initial_sofr, mu_sofr, sigma_sofr)\n",
        "print(\"Simulation successful!\")"
      ],
      "metadata": {
        "colab": {
          "base_uri": "https://localhost:8080/"
        },
        "id": "TtIZzsAaj-pQ",
        "outputId": "36b877b7-b795-45b6-c316-12b695a157df"
      },
      "execution_count": 4,
      "outputs": [
        {
          "output_type": "stream",
          "name": "stdout",
          "text": [
            "Simulation successful!\n"
          ]
        }
      ]
    },
    {
      "cell_type": "code",
      "source": [
        "n_simulations = 1000\n",
        "recovery_rate = 0.85\n",
        "losses = np.zeros(n_simulations)\n",
        "avg_sofr_per_sim = np.zeros(n_simulations)\n",
        "\n",
        "\n",
        "for i in range(n_simulations):\n",
        "    sofr_horizon = new_sofr_paths[-1, i]\n",
        "    avg_sofr_per_sim[i] = np.mean(new_sofr_paths[:, i])\n",
        "\n",
        "\n",
        "    probd_adjusted = portfolio['probd'] * (1 + 2*(sofr_horizon - initial_sofr)/initial_sofr)\n",
        "    probd_adjusted = np.clip(probd_adjusted, 0.01, 0.30)\n",
        "\n",
        "    ltv_adjusted = portfolio['ltv'] * (1 + 0.1*(sofr_horizon - initial_sofr)/initial_sofr)\n",
        "\n",
        "    defaults = np.random.binomial(1, probd_adjusted, size=num_loans)\n",
        "    losses[i] = np.sum(portfolio['amount'] * (1-recovery_rate) * defaults * (ltv_adjusted > 0.8))\n",
        "\n",
        ""
      ],
      "metadata": {
        "id": "G1WHP1xij_yP"
      },
      "execution_count": 5,
      "outputs": []
    },
    {
      "cell_type": "code",
      "source": [
        "var_95 = np.percentile(losses, 95)\n",
        "expected_loss = np.mean(losses)\n",
        "\n",
        "print(f\" Expected Annual Loss: {expected_loss:,.3f}\")\n"
      ],
      "metadata": {
        "colab": {
          "base_uri": "https://localhost:8080/"
        },
        "id": "yyFVHWiKkBDc",
        "outputId": "09fa8efd-c0c4-4b78-f691-54e8dcfe49a7"
      },
      "execution_count": 6,
      "outputs": [
        {
          "output_type": "stream",
          "name": "stdout",
          "text": [
            " Expected Annual Loss: 422,018.080\n"
          ]
        }
      ]
    },
    {
      "cell_type": "code",
      "source": [
        "print(f\"SOFR stats - Mean: {np.mean(new_sofr_paths):.3f}, Std: {np.std(new_sofr_paths):.3f}\")\n",
        "print(f\"Loss stats - Mean: ${np.mean(losses):,.3f}, Std: ${np.std(losses):,.3f}\")"
      ],
      "metadata": {
        "colab": {
          "base_uri": "https://localhost:8080/"
        },
        "id": "pLXSZ5S5kCLE",
        "outputId": "d804fdbd-d24e-4610-fc9b-b21b8f922cbe"
      },
      "execution_count": 7,
      "outputs": [
        {
          "output_type": "stream",
          "name": "stdout",
          "text": [
            "SOFR stats - Mean: 0.038, Std: 0.141\n",
            "Loss stats - Mean: $422,018.080, Std: $2,426,903.349\n"
          ]
        }
      ]
    }
  ]
}