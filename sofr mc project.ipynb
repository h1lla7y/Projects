{
 "cells": [
  {
   "cell_type": "code",
   "execution_count": 1,
   "metadata": {},
   "outputs": [],
   "source": [
    "import numpy as np\n",
    "import pandas as pd\n",
    "import matplotlib.pyplot as plt\n",
    "import requests"
   ]
  },
  {
   "cell_type": "code",
   "execution_count": 4,
   "metadata": {},
   "outputs": [],
   "source": [
    "avg_loan = 25000000\n",
    "num_loans = 15\n",
    "sofr_spread = .05\n",
    "\n",
    "np.random.seed(42)\n",
    "portfolio = pd.DataFrame({\n",
    "    'loan_id': range(1, num_loans + 1 ),\n",
    "    'amount': np.random.lognormal(mean=np.log(avg_loan), sigma=.05, size= num_loans),\n",
    "    'ltv': np.random.uniform(0.5, 0.8, size=num_loans),\n",
    "    'probd': np.random.uniform(0.01, 0.10, size=num_loans)  \n",
    "})\n"
   ]
  },
  {
   "cell_type": "code",
   "execution_count": 5,
   "metadata": {},
   "outputs": [
    {
     "name": "stdout",
     "output_type": "stream",
     "text": [
      "Simulation successful!\n"
     ]
    }
   ],
   "source": [
    "try:\n",
    "    sofr_rates = pd.read_csv(\"sofr.csv\", parse_dates=['Effective Date'], index_col='Effective Date')['Rate (%)'] / 100\n",
    "    sofr_rates = sofr_rates.dropna()\n",
    "    assert len(sofr_rates) > 0, \"Data empty after loading\"\n",
    "except Exception as e:\n",
    "    raise ValueError(f\"Failed to load SOFR data: {e}\")\n",
    "\n",
    "\n",
    "sofr_returns = np.log(sofr_rates / sofr_rates.shift(1)).dropna()\n",
    "mu_sofr = sofr_returns.mean() * 252\n",
    "sigma_sofr = sofr_returns.std() * np.sqrt(252)\n",
    "\n",
    "\n",
    "def simulate_sofr_paths(initial_rate, mu, sigma, days=252, n_simulations=1000):\n",
    "    dt = 1/days\n",
    "    paths = np.zeros((days, n_simulations))\n",
    "    paths[0] = initial_rate\n",
    "    \n",
    "    for t in range(1, days):\n",
    "        shocks = np.random.normal(0, 1, n_simulations)\n",
    "        paths[t] = paths[t-1] * np.exp((mu - 0.5*sigma**2)*dt + sigma*np.sqrt(dt)*shocks)\n",
    "    return paths\n",
    "\n",
    "\n",
    "initial_sofr = .045  \n",
    "new_sofr_paths = simulate_sofr_paths(initial_sofr, mu_sofr, sigma_sofr)\n",
    "print(\"Simulation successful!\")"
   ]
  },
  {
   "cell_type": "code",
   "execution_count": 6,
   "metadata": {},
   "outputs": [],
   "source": [
    "n_simulations = 1000\n",
    "recovery_rate = 0.85\n",
    "losses = np.zeros(n_simulations)\n",
    "avg_sofr_per_sim = np.zeros(n_simulations)\n",
    "\n",
    "\n",
    "for i in range(n_simulations):\n",
    "    sofr_horizon = new_sofr_paths[-1, i]\n",
    "    avg_sofr_per_sim[i] = np.mean(new_sofr_paths[:, i])  \n",
    "    \n",
    "   \n",
    "    probd_adjusted = portfolio['probd'] * (1 + 2*(sofr_horizon - initial_sofr)/initial_sofr)\n",
    "    probd_adjusted = np.clip(probd_adjusted, 0.01, 0.30)\n",
    "    \n",
    "    ltv_adjusted = portfolio['ltv'] * (1 + 0.1*(sofr_horizon - initial_sofr)/initial_sofr)\n",
    "    \n",
    "    defaults = np.random.binomial(1, probd_adjusted, size=num_loans)\n",
    "    losses[i] = np.sum(portfolio['amount'] * (1-recovery_rate) * defaults * (ltv_adjusted > 0.8))\n",
    "    \n",
    "    "
   ]
  },
  {
   "cell_type": "code",
   "execution_count": 7,
   "metadata": {},
   "outputs": [
    {
     "name": "stdout",
     "output_type": "stream",
     "text": [
      " Expected Annual Loss: 422,018.080\n"
     ]
    }
   ],
   "source": [
    "var_95 = np.percentile(losses, 95)\n",
    "expected_loss = np.mean(losses)\n",
    "\n",
    "print(f\" Expected Annual Loss: {expected_loss:,.3f}\")\n"
   ]
  },
  {
   "cell_type": "code",
   "execution_count": 8,
   "metadata": {},
   "outputs": [
    {
     "name": "stdout",
     "output_type": "stream",
     "text": [
      "SOFR stats - Mean: 0.038, Std: 0.141\n",
      "Loss stats - Mean: $422,018.080, Std: $2,426,903.349\n"
     ]
    }
   ],
   "source": [
    "print(f\"SOFR stats - Mean: {np.mean(new_sofr_paths):.3f}, Std: {np.std(new_sofr_paths):.3f}\")  \n",
    "print(f\"Loss stats - Mean: ${np.mean(losses):,.3f}, Std: ${np.std(losses):,.3f}\")"
   ]
  }
 ],
 "metadata": {
  "kernelspec": {
   "display_name": "My Jup Env",
   "language": "python",
   "name": "jupenv"
  },
  "language_info": {
   "codemirror_mode": {
    "name": "ipython",
    "version": 3
   },
   "file_extension": ".py",
   "mimetype": "text/x-python",
   "name": "python",
   "nbconvert_exporter": "python",
   "pygments_lexer": "ipython3",
   "version": "3.12.7"
  }
 },
 "nbformat": 4,
 "nbformat_minor": 2
}
